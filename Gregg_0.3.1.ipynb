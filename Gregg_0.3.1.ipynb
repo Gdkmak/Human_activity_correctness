{
 "cells": [
  {
   "cell_type": "markdown",
   "metadata": {},
   "source": [
    "## LSTM"
   ]
  },
  {
   "cell_type": "code",
   "execution_count": 57,
   "metadata": {},
   "outputs": [],
   "source": [
    "# Restore variable\n",
    "%store -r _X\n",
    "%store -r _Y"
   ]
  },
  {
   "cell_type": "code",
   "execution_count": 46,
   "metadata": {},
   "outputs": [
    {
     "data": {
      "text/plain": [
       "<module 'utils' from 'C:\\\\Users\\\\ghait\\\\Desktop\\\\MSc\\\\CS5500\\\\implementation\\\\Final\\\\utils.py'>"
      ]
     },
     "execution_count": 46,
     "metadata": {},
     "output_type": "execute_result"
    }
   ],
   "source": [
    "import numpy as np\n",
    "import matplotlib.pyplot as plt\n",
    "import utils as u\n",
    "from numpy import mean\n",
    "from numpy import std\n",
    "import importlib\n",
    "importlib.reload(u)"
   ]
  },
  {
   "cell_type": "markdown",
   "metadata": {},
   "source": [
    "## Normalisation"
   ]
  },
  {
   "cell_type": "code",
   "execution_count": 28,
   "metadata": {},
   "outputs": [],
   "source": [
    "X_min = _X.min(axis=(1, 2), keepdims=True)\n",
    "X_max = _X.max(axis=(1, 2), keepdims=True)\n",
    "X_norm = (_X - X_min)/(X_max-X_min)"
   ]
  },
  {
   "cell_type": "markdown",
   "metadata": {},
   "source": [
    "## Standarisation"
   ]
  },
  {
   "cell_type": "code",
   "execution_count": 58,
   "metadata": {},
   "outputs": [],
   "source": [
    "X_stand = []\n",
    "for i in range (len(_X)):\n",
    "    numerator = _X[i,:,:] - np.mean(_X[i,:,:], axis=0)\n",
    "    denominator = np.std(_X[i,:,:], axis=0)\n",
    "    temp = np.divide(numerator, denominator, out=np.zeros_like(numerator), where=denominator!=0) # avoid division on zero\n",
    "    X_stand.append(temp)\n",
    "X_stand = np.array(X_stand)\n",
    "X_stand = X_stand[:,:,:] # because the results were in 3D array"
   ]
  },
  {
   "cell_type": "markdown",
   "metadata": {},
   "source": [
    "# Spliting the data Cross Subject"
   ]
  },
  {
   "cell_type": "code",
   "execution_count": 59,
   "metadata": {},
   "outputs": [
    {
     "name": "stdout",
     "output_type": "stream",
     "text": [
      "(1800, 179, 66)\n",
      "(200, 179, 66)\n"
     ]
    }
   ],
   "source": [
    "\"\"\"\n",
    "Any of these tensors can be an input for the function below \n",
    "X_norm -- normalised \n",
    "X_stand -- standardised \n",
    "_X -- original data without any manipulation \n",
    "\"\"\"\n",
    "import importlib\n",
    "importlib.reload(u)\n",
    "# this function split the dataset to training and test set\n",
    "X_trn,Y_trn,X_tst,Y_tst = u.train_test(_X, _Y) \n",
    "print(X_trn.shape)\n",
    "print(X_tst.shape)"
   ]
  },
  {
   "cell_type": "code",
   "execution_count": 60,
   "metadata": {},
   "outputs": [],
   "source": [
    "X_test = X_tst\n",
    "X_train = X_trn\n",
    "Y_train = u.convert_to_one_hot(Y_trn[:,2],2).T\n",
    "Y_test = u.convert_to_one_hot(Y_tst[:,2], 2).T"
   ]
  },
  {
   "cell_type": "markdown",
   "metadata": {},
   "source": [
    "## Batch shape (taining and test)"
   ]
  },
  {
   "cell_type": "code",
   "execution_count": 61,
   "metadata": {},
   "outputs": [
    {
     "name": "stdout",
     "output_type": "stream",
     "text": [
      "Number of training examples = 1800\n",
      "Number of test examples = 200\n",
      "X_train shape: (1800, 179, 66)\n",
      "Y_train shape: (1800, 2)\n",
      "X_test shape: (200, 179, 66)\n",
      "Y_test shape: (200, 2)\n"
     ]
    }
   ],
   "source": [
    "print (\"Number of training examples = \" + str(X_train.shape[0]))\n",
    "print (\"Number of test examples = \" + str(X_test.shape[0]))\n",
    "print (\"X_train shape: \" + str(X_train.shape))\n",
    "print (\"Y_train shape: \" + str(Y_train.shape))\n",
    "print (\"X_test shape: \" + str(X_test.shape))\n",
    "print (\"Y_test shape: \" + str(Y_test.shape))"
   ]
  },
  {
   "cell_type": "markdown",
   "metadata": {},
   "source": [
    "# Model Design"
   ]
  },
  {
   "cell_type": "code",
   "execution_count": 33,
   "metadata": {},
   "outputs": [],
   "source": [
    "from keras.models import Sequential\n",
    "from keras.optimizers import SGD\n",
    "from keras import utils as np_utils\n",
    "from keras.layers import Dense\n",
    "from keras.layers import Flatten\n",
    "from keras.layers import Dropout\n",
    "from keras.layers import LSTM"
   ]
  },
  {
   "cell_type": "code",
   "execution_count": 64,
   "metadata": {},
   "outputs": [],
   "source": [
    "test_scores = [] \n",
    "train_scores = [] \n",
    "\n",
    "# Hyperparameter \n",
    "verbose = 0 \n",
    "epochs = 200 \n",
    "batch_size = 50\n",
    "repeats = 3\n",
    "\n",
    "n_timesteps = X_train.shape[1]\n",
    "n_features = X_train.shape[2]\n",
    "n_outputs =  Y_train.shape[1]\n",
    "\n",
    "for r in range(repeats):\n",
    "    model = Sequential()\n",
    "    model.add(LSTM(100, input_shape=(n_timesteps,n_features)))\n",
    "    model.add(Dropout(0.5))\n",
    "    model.add(Dense(100, activation='relu'))\n",
    "    model.add(Dense(n_outputs, activation='softmax'))\n",
    "    model.compile(loss='categorical_crossentropy', optimizer='adam', metrics=['accuracy'])\n",
    "    # fit network\n",
    "    model.fit(X_train, Y_train, epochs, batch_size, verbose=verbose)\n",
    "    \n",
    "    # evaluate model training set\n",
    "    _, train_accuracy = model.evaluate(X_train, Y_train, batch_size=batch_size, verbose=0)\n",
    "    t_score = train_accuracy * 100.0\n",
    "    print('># Train Accuracy iteration %d: %.3f' % (r+1, t_score))\n",
    "    train_scores.append(t_score)\n",
    "    \n",
    "    # evaluate model test set\n",
    "    _, test_accuracy = model.evaluate(X_test, Y_test, batch_size=batch_size, verbose=0)\n",
    "    score = test_accuracy * 100.0\n",
    "    print('># Test Accuracy iteration  %d: %.3f' % (r+1, score))\n",
    "    test_scores.append(score)\n",
    "\n",
    "# summarize train results\n",
    "print(train_scores)\n",
    "m, s = mean(train_scores), std(train_scores)\n",
    "print('Train Accuracy: %.2f%% (+/-%.2f)' % (m, s))\n",
    "\n",
    "# summarize test results\n",
    "print(test_scores)\n",
    "m, s = mean(test_scores), std(test_scores)\n",
    "print('Test Accuracy: %.2f%% (+/-%.2f)' % (m, s))"
   ]
  }
 ],
 "metadata": {
  "kernelspec": {
   "display_name": "Python 3",
   "language": "python",
   "name": "python3"
  },
  "language_info": {
   "codemirror_mode": {
    "name": "ipython",
    "version": 3
   },
   "file_extension": ".py",
   "mimetype": "text/x-python",
   "name": "python",
   "nbconvert_exporter": "python",
   "pygments_lexer": "ipython3",
   "version": "3.5.2"
  }
 },
 "nbformat": 4,
 "nbformat_minor": 2
}
