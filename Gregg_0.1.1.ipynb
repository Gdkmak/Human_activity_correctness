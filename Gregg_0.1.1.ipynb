{
 "cells": [
  {
   "cell_type": "markdown",
   "metadata": {},
   "source": [
    "# Human Action Correctness Gregg_0.1 \n",
    "\n",
    "## CNN using 2D conv layers (batch, H, W, channels)"
   ]
  },
  {
   "cell_type": "code",
   "execution_count": 120,
   "metadata": {},
   "outputs": [
    {
     "data": {
      "text/plain": [
       "<module 'utils' from 'C:\\\\Users\\\\ghait\\\\Desktop\\\\MSc\\\\CS5500\\\\implementation\\\\Final\\\\utils.py'>"
      ]
     },
     "execution_count": 120,
     "metadata": {},
     "output_type": "execute_result"
    }
   ],
   "source": [
    "import math\n",
    "import numpy as np\n",
    "import matplotlib.pyplot as plt\n",
    "import scipy\n",
    "import tensorflow as tf\n",
    "from tensorflow.python.framework import ops\n",
    "import utils as u\n",
    "import importlib\n",
    "importlib.reload(u)"
   ]
  },
  {
   "cell_type": "markdown",
   "metadata": {},
   "source": [
    "## Read and interpolate the data in the shape [400x179x66]  [sample,frames, joints coordinates] "
   ]
  },
  {
   "cell_type": "code",
   "execution_count": 121,
   "metadata": {},
   "outputs": [
    {
     "data": {
      "image/png": "[encoded data removed]",
      "text/plain": [
       "<Figure size 432x288 with 1 Axes>"
      ]
     },
     "metadata": {
      "needs_background": "light"
     },
     "output_type": "display_data"
    },
    {
     "name": "stdout",
     "output_type": "stream",
     "text": [
      "Min:  28 , Max: 179\n"
     ]
    }
   ],
   "source": [
    "# get the highest number of frames that a sequence has \n",
    "path = 'C:/Users/ghait/Desktop/MSc/CS5500/Dataset/Kinect/*/*.txt'\n",
    "max_frm, min_frm = u.frame_max_min(path,\"hist\")\n",
    "print(\"Min: \", min_frm, \", Max:\",max_frm)"
   ]
  },
  {
   "cell_type": "markdown",
   "metadata": {},
   "source": [
    "## Dwonsample and Upsample"
   ]
  },
  {
   "cell_type": "code",
   "execution_count": 122,
   "metadata": {
    "scrolled": true
   },
   "outputs": [
    {
     "name": "stderr",
     "output_type": "stream",
     "text": [
      "100%|██████████████████████████████████████████████████████████████████████████████| 2000/2000 [20:18<00:00,  1.66it/s]\n"
     ]
    }
   ],
   "source": [
    "\"\"\"\n",
    "Read the files and downsample or upsample to get equal size. \n",
    "Parameters:\n",
    "path -- locaiton of the dataset\n",
    "inter_method -- to choose the appropriate interpolation methods (upsampling):\n",
    "                The DEFAULT is POLYNOMIAL, and the others:\n",
    "                ‘linear’: Ignore the index and treat the values as equally spaced. \n",
    "                ‘time’: Works on daily and higher resolution data to interpolate given length of interval.\n",
    "                ‘index’, ‘values’: use the actual numerical values of the index.\n",
    "                ‘pad’: Fill in NaNs using existing values forwards.\n",
    "                ‘back_fill’ Fill in NaNs using existing values backwards.\n",
    "                ‘mean’ Fill in NaNs with mean value of predecessor and successor coordinate \n",
    "                ‘nearest’, ‘zero’, ‘slinear’, ‘quadratic’, ‘cubic’, ‘spline’, ‘barycentric’, ‘polynomial’: these functions are \n",
    "                passed to scipy.interpolate.interp1d. These methods use the numerical values of the index.\n",
    "                Both ‘polynomial’ and ‘spline’ require that you also specify an order (int), and it is 3 (cubic polynomial) (will explain why) \n",
    "sampling_method -- to choose either upsampling or downsampling. The DEFAULT is DOWNSAMPLING\n",
    "\"\"\"\n",
    "# upsampling / downsampling movements:\n",
    "_X, _Y = u.read_files(path, inter_method=\"zero\", sampling_method= \"upsampling\") # and Tqdam \n"
   ]
  },
  {
   "cell_type": "markdown",
   "metadata": {},
   "source": [
    "### Read the files according to threshold "
   ]
  },
  {
   "cell_type": "code",
   "execution_count": 76,
   "metadata": {},
   "outputs": [
    {
     "name": "stdout",
     "output_type": "stream",
     "text": [
      "threshold:  [1.5376512028839273, 0.8725795904103362, 1.7296980273728368, 1.2286645396534837, 0.9544282889345874, 0.6832300905829993, 1.4480363554987576, 1.1307212789841568, 0.9541707242652826, 0.7332039982984807, 1.7307301186050685, 0.9790055177934811, 1.8345124061144742, 1.5244068690652626, 1.3419981846500197, 0.9504557075922091, 1.107993042796866, 0.9423634376575284, 0.7815489904094671, 0.8142873843301711]\n"
     ]
    },
    {
     "name": "stderr",
     "output_type": "stream",
     "text": [
      "100%|██████████████████████████████████████████████████████████████████████████████| 2000/2000 [02:16<00:00, 13.62it/s]\n"
     ]
    }
   ],
   "source": [
    "# Threshold approach\n",
    "_X, _Y = u.read_files_threshold(path)"
   ]
  },
  {
   "cell_type": "markdown",
   "metadata": {},
   "source": [
    "### Read the files and according to the lowest number of frames"
   ]
  },
  {
   "cell_type": "code",
   "execution_count": 4,
   "metadata": {},
   "outputs": [
    {
     "name": "stderr",
     "output_type": "stream",
     "text": [
      "100%|█████████████████████████████████████████████████████████████████████████████| 2000/2000 [00:03<00:00, 645.97it/s]\n"
     ]
    }
   ],
   "source": [
    "# read according to the lowest number of frames \n",
    "_X, _Y = u.read_files_lowest(path)"
   ]
  },
  {
   "cell_type": "code",
   "execution_count": 123,
   "metadata": {},
   "outputs": [
    {
     "name": "stdout",
     "output_type": "stream",
     "text": [
      "Stored '_X' (ndarray)\n",
      "Stored '_Y' (ndarray)\n"
     ]
    }
   ],
   "source": [
    "# Store _X and _Y to be used in different notebooks\n",
    "%store _X\n",
    "%store _Y"
   ]
  },
  {
   "cell_type": "markdown",
   "metadata": {},
   "source": [
    "## 4D tensor"
   ]
  },
  {
   "cell_type": "code",
   "execution_count": 131,
   "metadata": {},
   "outputs": [
    {
     "name": "stdout",
     "output_type": "stream",
     "text": [
      "(2000, 179, 66, 1)\n",
      "(2000, 3)\n"
     ]
    }
   ],
   "source": [
    "# Add one more dimension to create a tensor that will be fed to CNN\n",
    "num_joint = _X.shape[2] \n",
    "num_frm = _X.shape[1]\n",
    "num_file = _X.shape[0]\n",
    "\n",
    "temp = np.zeros((num_file,1,num_frm,num_joint))\n",
    "for h in range(num_file):\n",
    "    temp[h][0][:][:] = _X[h,:,:]\n",
    "\n",
    "X_4d = temp \n",
    "\n",
    "# Reshape it to have 4 D shape such as (m, H, W, C) where C is number of channel\n",
    "X_4d = np.rollaxis(np.rollaxis(X_4d, 2, 1),3,2) \n",
    "print(X_4d.shape)\n",
    "print(_Y.shape)"
   ]
  },
  {
   "cell_type": "markdown",
   "metadata": {},
   "source": [
    "## Normalisation"
   ]
  },
  {
   "cell_type": "code",
   "execution_count": 132,
   "metadata": {},
   "outputs": [],
   "source": [
    "X_min = X_4d.min(axis=(1, 2), keepdims=True)\n",
    "X_max = X_4d.max(axis=(1, 2), keepdims=True)\n",
    "X_norm = (X_4d - X_min)/(X_max-X_min)"
   ]
  },
  {
   "cell_type": "markdown",
   "metadata": {},
   "source": [
    "## Standardisation"
   ]
  },
  {
   "cell_type": "code",
   "execution_count": 133,
   "metadata": {},
   "outputs": [],
   "source": [
    "X_stand = []\n",
    "for i in range (len(X_4d)):\n",
    "    numerator = X_4d[i,:,:,0] - np.mean(X_4d[i,:,:,0], axis=0)\n",
    "    denominator = np.std(X_4d[i,:,:,0], axis=0)\n",
    "    temp = np.divide(numerator, denominator, out=np.zeros_like(numerator), where=denominator!=0) # avoid division on zero\n",
    "    X_stand.append(temp)\n",
    "X_stand = np.array(X_stand)\n",
    "X_stand = X_stand[:,:,:,np.newaxis] # because the results were in 3D array"
   ]
  },
  {
   "cell_type": "markdown",
   "metadata": {},
   "source": [
    "##  Spliting the data Cross Subject"
   ]
  },
  {
   "cell_type": "code",
   "execution_count": 134,
   "metadata": {},
   "outputs": [
    {
     "name": "stdout",
     "output_type": "stream",
     "text": [
      "(1800, 179, 66, 1)\n",
      "(200, 179, 66, 1)\n"
     ]
    }
   ],
   "source": [
    "\"\"\"\n",
    "Any of these tensors can be an input for the function below \n",
    "X_norm -- normalised \n",
    "X_stand -- standardised \n",
    "X_4d -- original data without any manipulation \n",
    "\"\"\"\n",
    "import importlib\n",
    "importlib.reload(u)\n",
    "# this function split the dataset to training and test set\n",
    "X_trn,Y_trn,X_tst,Y_tst = u.train_test(X_stand, _Y) \n",
    "print(X_trn.shape)\n",
    "print(X_tst.shape)"
   ]
  },
  {
   "cell_type": "markdown",
   "metadata": {},
   "source": [
    "## Convert to one- hot encode"
   ]
  },
  {
   "cell_type": "code",
   "execution_count": 135,
   "metadata": {},
   "outputs": [],
   "source": [
    "X_test = X_tst\n",
    "X_train = X_trn\n",
    "Y_train = u.convert_to_one_hot(Y_trn[:,2],2).T\n",
    "Y_test = u.convert_to_one_hot(Y_tst[:,2], 2).T"
   ]
  },
  {
   "cell_type": "markdown",
   "metadata": {},
   "source": [
    "## Batch shape (taining and test)"
   ]
  },
  {
   "cell_type": "code",
   "execution_count": 136,
   "metadata": {},
   "outputs": [
    {
     "name": "stdout",
     "output_type": "stream",
     "text": [
      "Number of training examples = 1800\n",
      "Number of test examples = 200\n",
      "X_train shape: (1800, 179, 66, 1)\n",
      "Y_train shape: (1800, 2)\n",
      "X_test shape: (200, 179, 66, 1)\n",
      "Y_test shape: (200, 2)\n"
     ]
    }
   ],
   "source": [
    "print (\"Number of training examples = \" + str(X_train.shape[0]))\n",
    "print (\"Number of test examples = \" + str(X_test.shape[0]))\n",
    "print (\"X_train shape: \" + str(X_train.shape))\n",
    "print (\"Y_train shape: \" + str(Y_train.shape))\n",
    "print (\"X_test shape: \" + str(X_test.shape))\n",
    "print (\"Y_test shape: \" + str(Y_test.shape))"
   ]
  },
  {
   "cell_type": "markdown",
   "metadata": {},
   "source": [
    "## 2D CNN Model"
   ]
  },
  {
   "cell_type": "raw",
   "metadata": {},
   "source": [
    "The following section was supposed to implement AlexNet architecture that has five-layer ConvNet in Tensorflow:\n",
    "\n",
    "Layer 1 (CONV2D -> RELU -> MAXPOOL) -> W1 = [6, 6, 1, 96] with 3 strides and 0 padding    -> \n",
    "Layer 2 (CONV2D -> RELU -> MAXPOOL) -> W2 = [3, 3, 96, 256] with 1 strides and 0 padding  -> \n",
    "Layer 3 (CONV2D -> RELU)            -> W3 = [2, 2, 256, 348] with 1 strides and 0 padding -> \n",
    "Layer 4 (CONV2D -> RELU)            -> W4 = [2, 2, 348, 348] with 1 strides and 0 padding -> \n",
    "Layer 5 (CONV2D -> RELU)            -> W5 = [2, 2, 348, 256] with 1 strides and 0 padding -> \n",
    "\n",
    "FLATTEN -> FULLYCONNECTED ->  FULLYCONNECTED -> SOFTMAX\n",
    "\n",
    "\"ADD IMAGE OF THE ARCHITECTURE\" https://neurohive.io/wp-content/uploads/2018/10/AlexNet-1.png \n",
    "\n",
    "HOWEVER, due of the lack of processing and since the research doesn't focus on the architecture of the model, the architecture\n",
    "was simplified to have only two-layer ConvNet and one FULLYCONNECTED:\n",
    "\n",
    "CONV2D -> RELU -> MAXPOOL -> CONV2D -> RELU -> MAXPOOL -> FLATTEN -> FULLYCONNECTED -> SOFTMAX\n"
   ]
  },
  {
   "cell_type": "code",
   "execution_count": 137,
   "metadata": {},
   "outputs": [
    {
     "data": {
      "text/plain": [
       "<module 'conv' from 'C:\\\\Users\\\\ghait\\\\Desktop\\\\MSc\\\\CS5500\\\\implementation\\\\Final\\\\conv.py'>"
      ]
     },
     "execution_count": 137,
     "metadata": {},
     "output_type": "execute_result"
    }
   ],
   "source": [
    "import conv as cnn\n",
    "importlib.reload(cnn)"
   ]
  },
  {
   "cell_type": "markdown",
   "metadata": {},
   "source": [
    "### Train the model"
   ]
  },
  {
   "cell_type": "code",
   "execution_count": 138,
   "metadata": {},
   "outputs": [
    {
     "name": "stdout",
     "output_type": "stream",
     "text": [
      "Cost after epoch 0: 0.682689\n",
      "Cost after epoch 5: 0.377649\n",
      "Cost after epoch 10: 0.207221\n",
      "Cost after epoch 15: 0.132529\n",
      "Cost after epoch 20: 0.083386\n",
      "Cost after epoch 25: 0.052899\n",
      "Cost after epoch 30: 0.039478\n",
      "Cost after epoch 35: 0.024491\n",
      "Cost after epoch 40: 0.016527\n",
      "Cost after epoch 45: 0.011473\n",
      "Cost after epoch 50: 0.009055\n",
      "Cost after epoch 55: 0.006632\n",
      "Cost after epoch 60: 0.004870\n",
      "Cost after epoch 65: 0.003850\n",
      "Cost after epoch 70: 0.003018\n",
      "Cost after epoch 75: 0.002569\n",
      "Cost after epoch 80: 0.002100\n",
      "Cost after epoch 85: 0.001730\n",
      "Cost after epoch 90: 0.001433\n",
      "Cost after epoch 95: 0.001296\n",
      "Cost after epoch 100: 0.001033\n",
      "Cost after epoch 105: 0.000893\n",
      "Cost after epoch 110: 0.000777\n",
      "Cost after epoch 115: 0.000663\n",
      "Cost after epoch 120: 0.000574\n",
      "Cost after epoch 125: 0.000496\n",
      "Cost after epoch 130: 0.000428\n",
      "Cost after epoch 135: 0.000378\n",
      "Cost after epoch 140: 0.000323\n",
      "Cost after epoch 145: 0.000282\n",
      "Cost after epoch 150: 0.000254\n",
      "Cost after epoch 155: 0.000224\n",
      "Cost after epoch 160: 0.000197\n",
      "Cost after epoch 165: 0.000174\n",
      "Cost after epoch 170: 0.000153\n"
     ]
    },
    {
     "ename": "KeyboardInterrupt",
     "evalue": "",
     "output_type": "error",
     "traceback": [
      "\u001b[1;31m---------------------------------------------------------------------------\u001b[0m",
      "\u001b[1;31mKeyboardInterrupt\u001b[0m                         Traceback (most recent call last)",
      "\u001b[1;32m<ipython-input-138-e49001ee25b0>\u001b[0m in \u001b[0;36m<module>\u001b[1;34m\u001b[0m\n\u001b[0;32m     46\u001b[0m             \u001b[1;33m(\u001b[0m\u001b[0mminibatch_X\u001b[0m\u001b[1;33m,\u001b[0m \u001b[0mminibatch_Y\u001b[0m\u001b[1;33m)\u001b[0m \u001b[1;33m=\u001b[0m \u001b[0mminibatch\u001b[0m\u001b[1;33m\u001b[0m\u001b[0m\n\u001b[0;32m     47\u001b[0m             \u001b[1;31m# Run the session to execute the optimizer and the cost\u001b[0m\u001b[1;33m\u001b[0m\u001b[1;33m\u001b[0m\u001b[0m\n\u001b[1;32m---> 48\u001b[1;33m             \u001b[0m_\u001b[0m \u001b[1;33m,\u001b[0m \u001b[0mtemp_cost\u001b[0m \u001b[1;33m=\u001b[0m \u001b[0msess\u001b[0m\u001b[1;33m.\u001b[0m\u001b[0mrun\u001b[0m\u001b[1;33m(\u001b[0m\u001b[1;33m[\u001b[0m\u001b[0moptimizer\u001b[0m\u001b[1;33m,\u001b[0m \u001b[0mcost\u001b[0m\u001b[1;33m]\u001b[0m\u001b[1;33m,\u001b[0m \u001b[0mfeed_dict\u001b[0m\u001b[1;33m=\u001b[0m\u001b[1;33m{\u001b[0m\u001b[0mX\u001b[0m\u001b[1;33m:\u001b[0m\u001b[0mminibatch_X\u001b[0m\u001b[1;33m,\u001b[0m \u001b[0mY\u001b[0m\u001b[1;33m:\u001b[0m\u001b[0mminibatch_Y\u001b[0m\u001b[1;33m}\u001b[0m\u001b[1;33m)\u001b[0m\u001b[1;33m\u001b[0m\u001b[0m\n\u001b[0m\u001b[0;32m     49\u001b[0m             \u001b[0mminibatch_cost\u001b[0m \u001b[1;33m+=\u001b[0m \u001b[0mtemp_cost\u001b[0m \u001b[1;33m/\u001b[0m \u001b[0mnum_minibatches\u001b[0m\u001b[1;33m\u001b[0m\u001b[0m\n\u001b[0;32m     50\u001b[0m \u001b[1;33m\u001b[0m\u001b[0m\n",
      "\u001b[1;32mc:\\users\\ghait\\appdata\\local\\programs\\python\\python35\\lib\\site-packages\\tensorflow\\python\\client\\session.py\u001b[0m in \u001b[0;36mrun\u001b[1;34m(self, fetches, feed_dict, options, run_metadata)\u001b[0m\n\u001b[0;32m    948\u001b[0m     \u001b[1;32mtry\u001b[0m\u001b[1;33m:\u001b[0m\u001b[1;33m\u001b[0m\u001b[0m\n\u001b[0;32m    949\u001b[0m       result = self._run(None, fetches, feed_dict, options_ptr,\n\u001b[1;32m--> 950\u001b[1;33m                          run_metadata_ptr)\n\u001b[0m\u001b[0;32m    951\u001b[0m       \u001b[1;32mif\u001b[0m \u001b[0mrun_metadata\u001b[0m\u001b[1;33m:\u001b[0m\u001b[1;33m\u001b[0m\u001b[0m\n\u001b[0;32m    952\u001b[0m         \u001b[0mproto_data\u001b[0m \u001b[1;33m=\u001b[0m \u001b[0mtf_session\u001b[0m\u001b[1;33m.\u001b[0m\u001b[0mTF_GetBuffer\u001b[0m\u001b[1;33m(\u001b[0m\u001b[0mrun_metadata_ptr\u001b[0m\u001b[1;33m)\u001b[0m\u001b[1;33m\u001b[0m\u001b[0m\n",
      "\u001b[1;32mc:\\users\\ghait\\appdata\\local\\programs\\python\\python35\\lib\\site-packages\\tensorflow\\python\\client\\session.py\u001b[0m in \u001b[0;36m_run\u001b[1;34m(self, handle, fetches, feed_dict, options, run_metadata)\u001b[0m\n\u001b[0;32m   1171\u001b[0m     \u001b[1;32mif\u001b[0m \u001b[0mfinal_fetches\u001b[0m \u001b[1;32mor\u001b[0m \u001b[0mfinal_targets\u001b[0m \u001b[1;32mor\u001b[0m \u001b[1;33m(\u001b[0m\u001b[0mhandle\u001b[0m \u001b[1;32mand\u001b[0m \u001b[0mfeed_dict_tensor\u001b[0m\u001b[1;33m)\u001b[0m\u001b[1;33m:\u001b[0m\u001b[1;33m\u001b[0m\u001b[0m\n\u001b[0;32m   1172\u001b[0m       results = self._do_run(handle, final_targets, final_fetches,\n\u001b[1;32m-> 1173\u001b[1;33m                              feed_dict_tensor, options, run_metadata)\n\u001b[0m\u001b[0;32m   1174\u001b[0m     \u001b[1;32melse\u001b[0m\u001b[1;33m:\u001b[0m\u001b[1;33m\u001b[0m\u001b[0m\n\u001b[0;32m   1175\u001b[0m       \u001b[0mresults\u001b[0m \u001b[1;33m=\u001b[0m \u001b[1;33m[\u001b[0m\u001b[1;33m]\u001b[0m\u001b[1;33m\u001b[0m\u001b[0m\n",
      "\u001b[1;32mc:\\users\\ghait\\appdata\\local\\programs\\python\\python35\\lib\\site-packages\\tensorflow\\python\\client\\session.py\u001b[0m in \u001b[0;36m_do_run\u001b[1;34m(self, handle, target_list, fetch_list, feed_dict, options, run_metadata)\u001b[0m\n\u001b[0;32m   1348\u001b[0m     \u001b[1;32mif\u001b[0m \u001b[0mhandle\u001b[0m \u001b[1;32mis\u001b[0m \u001b[1;32mNone\u001b[0m\u001b[1;33m:\u001b[0m\u001b[1;33m\u001b[0m\u001b[0m\n\u001b[0;32m   1349\u001b[0m       return self._do_call(_run_fn, feeds, fetches, targets, options,\n\u001b[1;32m-> 1350\u001b[1;33m                            run_metadata)\n\u001b[0m\u001b[0;32m   1351\u001b[0m     \u001b[1;32melse\u001b[0m\u001b[1;33m:\u001b[0m\u001b[1;33m\u001b[0m\u001b[0m\n\u001b[0;32m   1352\u001b[0m       \u001b[1;32mreturn\u001b[0m \u001b[0mself\u001b[0m\u001b[1;33m.\u001b[0m\u001b[0m_do_call\u001b[0m\u001b[1;33m(\u001b[0m\u001b[0m_prun_fn\u001b[0m\u001b[1;33m,\u001b[0m \u001b[0mhandle\u001b[0m\u001b[1;33m,\u001b[0m \u001b[0mfeeds\u001b[0m\u001b[1;33m,\u001b[0m \u001b[0mfetches\u001b[0m\u001b[1;33m)\u001b[0m\u001b[1;33m\u001b[0m\u001b[0m\n",
      "\u001b[1;32mc:\\users\\ghait\\appdata\\local\\programs\\python\\python35\\lib\\site-packages\\tensorflow\\python\\client\\session.py\u001b[0m in \u001b[0;36m_do_call\u001b[1;34m(self, fn, *args)\u001b[0m\n\u001b[0;32m   1354\u001b[0m   \u001b[1;32mdef\u001b[0m \u001b[0m_do_call\u001b[0m\u001b[1;33m(\u001b[0m\u001b[0mself\u001b[0m\u001b[1;33m,\u001b[0m \u001b[0mfn\u001b[0m\u001b[1;33m,\u001b[0m \u001b[1;33m*\u001b[0m\u001b[0margs\u001b[0m\u001b[1;33m)\u001b[0m\u001b[1;33m:\u001b[0m\u001b[1;33m\u001b[0m\u001b[0m\n\u001b[0;32m   1355\u001b[0m     \u001b[1;32mtry\u001b[0m\u001b[1;33m:\u001b[0m\u001b[1;33m\u001b[0m\u001b[0m\n\u001b[1;32m-> 1356\u001b[1;33m       \u001b[1;32mreturn\u001b[0m \u001b[0mfn\u001b[0m\u001b[1;33m(\u001b[0m\u001b[1;33m*\u001b[0m\u001b[0margs\u001b[0m\u001b[1;33m)\u001b[0m\u001b[1;33m\u001b[0m\u001b[0m\n\u001b[0m\u001b[0;32m   1357\u001b[0m     \u001b[1;32mexcept\u001b[0m \u001b[0merrors\u001b[0m\u001b[1;33m.\u001b[0m\u001b[0mOpError\u001b[0m \u001b[1;32mas\u001b[0m \u001b[0me\u001b[0m\u001b[1;33m:\u001b[0m\u001b[1;33m\u001b[0m\u001b[0m\n\u001b[0;32m   1358\u001b[0m       \u001b[0mmessage\u001b[0m \u001b[1;33m=\u001b[0m \u001b[0mcompat\u001b[0m\u001b[1;33m.\u001b[0m\u001b[0mas_text\u001b[0m\u001b[1;33m(\u001b[0m\u001b[0me\u001b[0m\u001b[1;33m.\u001b[0m\u001b[0mmessage\u001b[0m\u001b[1;33m)\u001b[0m\u001b[1;33m\u001b[0m\u001b[0m\n",
      "\u001b[1;32mc:\\users\\ghait\\appdata\\local\\programs\\python\\python35\\lib\\site-packages\\tensorflow\\python\\client\\session.py\u001b[0m in \u001b[0;36m_run_fn\u001b[1;34m(feed_dict, fetch_list, target_list, options, run_metadata)\u001b[0m\n\u001b[0;32m   1339\u001b[0m       \u001b[0mself\u001b[0m\u001b[1;33m.\u001b[0m\u001b[0m_extend_graph\u001b[0m\u001b[1;33m(\u001b[0m\u001b[1;33m)\u001b[0m\u001b[1;33m\u001b[0m\u001b[0m\n\u001b[0;32m   1340\u001b[0m       return self._call_tf_sessionrun(\n\u001b[1;32m-> 1341\u001b[1;33m           options, feed_dict, fetch_list, target_list, run_metadata)\n\u001b[0m\u001b[0;32m   1342\u001b[0m \u001b[1;33m\u001b[0m\u001b[0m\n\u001b[0;32m   1343\u001b[0m     \u001b[1;32mdef\u001b[0m \u001b[0m_prun_fn\u001b[0m\u001b[1;33m(\u001b[0m\u001b[0mhandle\u001b[0m\u001b[1;33m,\u001b[0m \u001b[0mfeed_dict\u001b[0m\u001b[1;33m,\u001b[0m \u001b[0mfetch_list\u001b[0m\u001b[1;33m)\u001b[0m\u001b[1;33m:\u001b[0m\u001b[1;33m\u001b[0m\u001b[0m\n",
      "\u001b[1;32mc:\\users\\ghait\\appdata\\local\\programs\\python\\python35\\lib\\site-packages\\tensorflow\\python\\client\\session.py\u001b[0m in \u001b[0;36m_call_tf_sessionrun\u001b[1;34m(self, options, feed_dict, fetch_list, target_list, run_metadata)\u001b[0m\n\u001b[0;32m   1427\u001b[0m     return tf_session.TF_SessionRun_wrapper(\n\u001b[0;32m   1428\u001b[0m         \u001b[0mself\u001b[0m\u001b[1;33m.\u001b[0m\u001b[0m_session\u001b[0m\u001b[1;33m,\u001b[0m \u001b[0moptions\u001b[0m\u001b[1;33m,\u001b[0m \u001b[0mfeed_dict\u001b[0m\u001b[1;33m,\u001b[0m \u001b[0mfetch_list\u001b[0m\u001b[1;33m,\u001b[0m \u001b[0mtarget_list\u001b[0m\u001b[1;33m,\u001b[0m\u001b[1;33m\u001b[0m\u001b[0m\n\u001b[1;32m-> 1429\u001b[1;33m         run_metadata)\n\u001b[0m\u001b[0;32m   1430\u001b[0m \u001b[1;33m\u001b[0m\u001b[0m\n\u001b[0;32m   1431\u001b[0m   \u001b[1;32mdef\u001b[0m \u001b[0m_call_tf_sessionprun\u001b[0m\u001b[1;33m(\u001b[0m\u001b[0mself\u001b[0m\u001b[1;33m,\u001b[0m \u001b[0mhandle\u001b[0m\u001b[1;33m,\u001b[0m \u001b[0mfeed_dict\u001b[0m\u001b[1;33m,\u001b[0m \u001b[0mfetch_list\u001b[0m\u001b[1;33m)\u001b[0m\u001b[1;33m:\u001b[0m\u001b[1;33m\u001b[0m\u001b[0m\n",
      "\u001b[1;31mKeyboardInterrupt\u001b[0m: "
     ]
    }
   ],
   "source": [
    "# initialise parameters \n",
    "\n",
    "learning_rate = 0.0009    # learning_rate -- learning rate of the optimization\n",
    "num_epochs = 200           # num_epochs -- number of epochs of the optimization loop\n",
    "minibatch_size = 50       # minibatch_size -- size of a minibatch\n",
    "print_cost = True         # print_cost -- True to print the cost every 100 epochs\n",
    "    \n",
    "ops.reset_default_graph() # to be able to rerun the model without overwriting tf variables\n",
    "tf.set_random_seed(1)     # to keep results consistent (tensorflow seed)\n",
    "seed = 3                  # to keep results consistent (numpy seed)\n",
    "(m, n_H0, n_W0, n_C0) = X_train.shape             \n",
    "n_y = Y_train.shape[1]                            \n",
    "costs = []                # To keep track of the cost\n",
    "\n",
    "# Create Placeholders of the correct shape\n",
    "X, Y = cnn.create_placeholders(n_H0, n_W0, n_C0, n_y)\n",
    "\n",
    "# Initialize tf parameters\n",
    "parameters = cnn.initialize_parameters()\n",
    "\n",
    "# Forward propagation: Build the forward propagation in the tensorflow graph\n",
    "Z3 = cnn.forward_propagation(X, parameters)\n",
    "\n",
    "# Cost function: Add cost function to tensorflow graph\n",
    "cost = cnn.compute_cost(Z3, Y)\n",
    "\n",
    "# Backpropagation: Define the tensorflow optimizer. Use an AdamOptimizer that minimizes the cost\n",
    "optimizer = tf.train.AdamOptimizer(learning_rate=learning_rate).minimize(cost)\n",
    "\n",
    "# Initialize all the variables globally\n",
    "init = tf.global_variables_initializer()\n",
    "\n",
    "# Start the session to compute the tensorflow graph\n",
    "with tf.Session() as sess:\n",
    "    # Run the initialization\n",
    "    sess.run(init)\n",
    "    # Do the training loop\n",
    "    for epoch in range(num_epochs):\n",
    "        minibatch_cost = 0.\n",
    "        num_minibatches = int(m / minibatch_size) # number of minibatches of size minibatch_size in the train set\n",
    "        seed = seed + 1\n",
    "        minibatches = cnn.random_mini_batches(X_train, Y_train, minibatch_size, seed)\n",
    "\n",
    "        for minibatch in minibatches:\n",
    "            # Select a minibatch\n",
    "            (minibatch_X, minibatch_Y) = minibatch\n",
    "            # Run the session to execute the optimizer and the cost\n",
    "            _ , temp_cost = sess.run([optimizer, cost], feed_dict={X:minibatch_X, Y:minibatch_Y})\n",
    "            minibatch_cost += temp_cost / num_minibatches\n",
    "            \n",
    "        # Print the cost every 5 epochs\n",
    "        if print_cost == True and epoch % 5 == 0:\n",
    "            print (\"Cost after epoch %i: %f\" % (epoch, minibatch_cost))\n",
    "        if print_cost == True and epoch % 1 == 0:\n",
    "            costs.append(minibatch_cost)\n",
    "\n",
    "    # Plot the cost\n",
    "    plt.plot(np.squeeze(costs))\n",
    "    plt.ylabel('cost')\n",
    "    plt.xlabel('iterations (per tens)')\n",
    "    plt.title(\"Learning rate =\" + str(learning_rate))\n",
    "    plt.show()\n",
    "    \n",
    "    # Calculate the correct predictions\n",
    "    predict_op = tf.argmax(Z3, 1)\n",
    "    correct_prediction = tf.equal(predict_op, tf.argmax(Y, 1))\n",
    "    \n",
    "    # Evaluate the model\n",
    "    # Calculate accuracy on the test set\n",
    "    accuracy = tf.reduce_mean(tf.cast(correct_prediction, \"float\"))\n",
    "    train_accuracy = accuracy.eval({X: X_train, Y: Y_train})\n",
    "    test_accuracy = accuracy.eval({X: X_test, Y: Y_test})\n",
    "\n",
    "    print('Train Accuracy:  %.2f%%' % (train_accuracy*100))\n",
    "    print('Test Accuracy:  %.2f%%' % (test_accuracy*100))\n",
    "\n",
    "    # confusioion matrix--- work on it later\n",
    "    \n",
    "    pre = predict_op.eval({X: X_test, Y: Y_test})\n",
    "    print(\"Prediction: \", pre, \"\\nActual :\", Y_tst[:,2])\n",
    "    \n",
    "    confusion = tf.confusion_matrix(labels=Y_tst[:,2], predictions=pre, num_classes=2)\n",
    "    print(\"Confusion matrix\\n\", confusion.eval(session=sess))"
   ]
  }
 ],
 "metadata": {
  "kernelspec": {
   "display_name": "Python 3",
   "language": "python",
   "name": "python3"
  },
  "language_info": {
   "codemirror_mode": {
    "name": "ipython",
    "version": 3
   },
   "file_extension": ".py",
   "mimetype": "text/x-python",
   "name": "python",
   "nbconvert_exporter": "python",
   "pygments_lexer": "ipython3",
   "version": "3.5.2"
  }
 },
 "nbformat": 4,
 "nbformat_minor": 2
}
